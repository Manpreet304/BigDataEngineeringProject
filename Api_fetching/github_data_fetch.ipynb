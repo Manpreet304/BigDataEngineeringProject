{
 "cells": [
  {
   "metadata": {},
   "cell_type": "markdown",
   "source": "## 1. Imports",
   "id": "ab9df13be091544a"
  },
  {
   "cell_type": "code",
   "id": "9bf4a456",
   "metadata": {
    "ExecuteTime": {
     "end_time": "2025-05-23T10:08:26.608746Z",
     "start_time": "2025-05-23T10:08:24.148034Z"
    }
   },
   "source": [
    "###\n",
    "import requests\n",
    "import time\n",
    "import pandas as pd\n",
    "!pip install python-dotenv"
   ],
   "outputs": [
    {
     "name": "stdout",
     "output_type": "stream",
     "text": [
      "Requirement already satisfied: python-dotenv in c:\\python312\\lib\\site-packages (1.1.0)\n"
     ]
    }
   ],
   "execution_count": 1
  },
  {
   "metadata": {},
   "cell_type": "markdown",
   "source": "## 2.  Configuration and Token",
   "id": "83fb0356cbe6f7f6"
  },
  {
   "metadata": {
    "ExecuteTime": {
     "end_time": "2025-05-23T10:08:27.109223Z",
     "start_time": "2025-05-23T10:08:26.787117Z"
    }
   },
   "cell_type": "code",
   "source": [
    "\n",
    "import requests\n",
    "import time\n",
    "import pandas as pd\n",
    "import os\n",
    "from dotenv import load_dotenv\n",
    "from typing import List, Dict\n",
    "\n",
    "\n",
    "load_dotenv()\n",
    "\n",
    "token = os.getenv(\"GITHUB_TOKEN\")\n",
    "if not token:\n",
    "    raise EnvironmentError(\"❌ GitHub token not found. Please set GITHUB_TOKEN in your environment.\")\n",
    "else:\n",
    "    print(f\"✅ GITHUB_TOKEN loaded: {token[:10]}...\")\n",
    "\n",
    "USERNAME = \"OSMFHtech\"\n",
    "START_YEAR = 2008\n",
    "END_YEAR = 2024\n",
    "\n",
    "HEADERS = {\n",
    "    \"Authorization\": f\"token {token}\",\n",
    "    \"Accept\": \"application/vnd.github.v3+json\"\n",
    "}\n",
    "\n",
    "def test_github_connection():\n",
    "    try:\n",
    "        response = requests.get(\"https://api.github.com/rate_limit\", headers=HEADERS)\n",
    "        if response.status_code == 200:\n",
    "            rate_limit_info = response.json()\n",
    "            remaining = rate_limit_info['rate']['remaining']\n",
    "            print(f\"✅ GitHub API connection successful! Remaining API calls: {remaining}\")\n",
    "            return True\n",
    "        else:\n",
    "            print(f\"❌ GitHub API connection failed with status code: {response.status_code}\")\n",
    "            return False\n",
    "    except Exception as e:\n",
    "        print(f\"❌ Error testing GitHub connection: {str(e)}\")\n",
    "        return False\n",
    "\n",
    "test_github_connection()\n"
   ],
   "id": "e661277a236c292e",
   "outputs": [
    {
     "name": "stdout",
     "output_type": "stream",
     "text": [
      "✅ GITHUB_TOKEN loaded: ghp_O0vr0f...\n",
      "✅ GitHub API connection successful! Remaining API calls: 4987\n"
     ]
    },
    {
     "data": {
      "text/plain": [
       "True"
      ]
     },
     "execution_count": 2,
     "metadata": {},
     "output_type": "execute_result"
    }
   ],
   "execution_count": 2
  },
  {
   "metadata": {},
   "cell_type": "markdown",
   "source": "## 3. Repository Fetching with Pagination",
   "id": "867c15dfc08b967e"
  },
  {
   "metadata": {
    "ExecuteTime": {
     "end_time": "2025-05-23T10:08:27.129828Z",
     "start_time": "2025-05-23T10:08:27.120064Z"
    }
   },
   "cell_type": "code",
   "source": [
    "def get_repositories(user):\n",
    "    repos = []\n",
    "    page = 1\n",
    "    per_page = 100\n",
    "    while True:\n",
    "        url = f\"https://api.github.com/users/{user}/repos?per_page={per_page}&page={page}&sort=created\"\n",
    "        response = requests.get(url, headers=HEADERS)\n",
    "\n",
    "        if response.status_code != 200:\n",
    "            print(f\"Error fetching repos: {response.status_code} - {response.text}\")\n",
    "            break\n",
    "\n",
    "        data = response.json()\n",
    "        if not data:\n",
    "            print(\"No more repos found, ending pagination.\")\n",
    "            break\n",
    "\n",
    "        for repo in data:\n",
    "            created_year = int(repo[\"created_at\"][:4])\n",
    "            if START_YEAR <= created_year <= END_YEAR:\n",
    "                repos.append({\n",
    "                    \"name\": repo[\"name\"],\n",
    "                    \"created_at\": repo[\"created_at\"],\n",
    "                    \"languages_url\": repo[\"languages_url\"]\n",
    "                })\n",
    "\n",
    "        print(f\"Fetched page {page}, total repos collected: {len(repos)}\")\n",
    "        page += 1\n",
    "        time.sleep(1)  # To avoid GitHub API rate limits\n",
    "\n",
    "    return repos\n",
    "\n"
   ],
   "id": "87677be0f234c16d",
   "outputs": [],
   "execution_count": 3
  },
  {
   "metadata": {},
   "cell_type": "markdown",
   "source": "## 4. Get Languages for Each Repository",
   "id": "b6d45f1a96d215f3"
  },
  {
   "metadata": {
    "ExecuteTime": {
     "end_time": "2025-05-23T10:08:27.178743Z",
     "start_time": "2025-05-23T10:08:27.166463Z"
    }
   },
   "cell_type": "code",
   "source": [
    "def get_languages(languages_url):\n",
    "    print(f\"🌐 Fetching languages from: {languages_url}\")\n",
    "    response = requests.get(languages_url, headers=HEADERS)\n",
    "    if response.status_code == 200:\n",
    "        return list(response.json().keys())\n",
    "    else:\n",
    "        print(f\"⚠️  Failed to get languages: {response.status_code} - {response.text}\")\n",
    "        return []\n"
   ],
   "id": "b14b1718ec5421df",
   "outputs": [],
   "execution_count": 4
  },
  {
   "metadata": {},
   "cell_type": "markdown",
   "source": "## 5. Full Data Extraction Function",
   "id": "ef61ffb8b74efce3"
  },
  {
   "metadata": {
    "ExecuteTime": {
     "end_time": "2025-05-23T10:08:27.208340Z",
     "start_time": "2025-05-23T10:08:27.193495Z"
    }
   },
   "cell_type": "code",
   "source": [
    "def fetch_repo_data(user):\n",
    "    repos = get_repositories(user)\n",
    "    for repo in repos:\n",
    "        repo[\"languages\"] = get_languages(repo[\"languages_url\"]) or []\n",
    "    return repos\n"
   ],
   "id": "57304519622853c0",
   "outputs": [],
   "execution_count": 5
  },
  {
   "metadata": {},
   "cell_type": "markdown",
   "source": "## 6. Run, Create DataFrame, and Save",
   "id": "61cba113244641f6"
  },
  {
   "metadata": {
    "ExecuteTime": {
     "end_time": "2025-05-23T10:08:31.028508Z",
     "start_time": "2025-05-23T10:08:27.227337Z"
    }
   },
   "cell_type": "code",
   "source": [
    "# Fetch and save data\n",
    "try:\n",
    "    print(f\"🔄 Fetching repository data for user: {USERNAME}\")\n",
    "    repos_info = fetch_repo_data(USERNAME)\n",
    "\n",
    "    if not repos_info:\n",
    "        raise ValueError(f\"❌ No repository data returned for '{USERNAME}'. Please check:\\n\"\n",
    "                        f\"1. Username is correct\\n\"\n",
    "                        f\"2. GitHub token is valid\\n\"\n",
    "                        f\"3. User has public repositories\")\n",
    "\n",
    "    # Create DataFrame and validate\n",
    "    df = pd.DataFrame(repos_info)\n",
    "\n",
    "    if df.empty:\n",
    "        raise ValueError(\"❌ DataFrame is empty after conversion\")\n",
    "\n",
    "    if \"languages\" not in df.columns:\n",
    "        raise KeyError(\"❌ 'languages' column is missing. API response format may have changed\")\n",
    "\n",
    "    # Process languages\n",
    "    df[\"languages\"] = df[\"languages\"].apply(lambda x: \", \".join(x) if isinstance(x, list) else str(x))\n",
    "    df = df[[\"name\", \"created_at\", \"languages\"]]\n",
    "\n",
    "    # Ensure output directory exists\n",
    "    import os\n",
    "    output_dir = os.path.join(os.path.dirname(os.getcwd()), \"data\")\n",
    "    os.makedirs(output_dir, exist_ok=True)\n",
    "\n",
    "    output_path = os.path.join(output_dir, \"github_repos.csv\")\n",
    "    df.to_csv(output_path, index=False)\n",
    "\n",
    "    print(f\"✅ Successfully saved {len(df)} repositories to {output_path}\")\n",
    "    print(\"\\n📊 Preview of the data:\")\n",
    "    display(df.head())\n",
    "\n",
    "    # Print summary statistics\n",
    "    print(f\"\\n📈 Summary:\")\n",
    "    print(f\"Total repositories: {len(df)}\")\n",
    "    print(f\"Date range: {df['created_at'].min()} to {df['created_at'].max()}\")\n",
    "    print(f\"Unique languages: {len(set(','.join(df['languages']).split(',')))}\")\n",
    "\n",
    "except ValueError as ve:\n",
    "    print(str(ve))\n",
    "except KeyError as ke:\n",
    "    print(str(ke))\n",
    "except Exception as e:\n",
    "    print(f\"❌ Unexpected error: {str(e)}\")\n",
    "    if 'df' in locals():\n",
    "        print(\"\\nAvailable columns:\", df.columns.tolist())"
   ],
   "id": "faf48b70da454efe",
   "outputs": [
    {
     "name": "stdout",
     "output_type": "stream",
     "text": [
      "🔄 Fetching repository data for user: OSMFHtech\n",
      "Fetched page 1, total repos collected: 7\n",
      "No more repos found, ending pagination.\n",
      "🌐 Fetching languages from: https://api.github.com/repos/OSMFHtech/SWARC-Introduction/languages\n",
      "🌐 Fetching languages from: https://api.github.com/repos/OSMFHtech/Maintenance-Monitor/languages\n",
      "🌐 Fetching languages from: https://api.github.com/repos/OSMFHtech/StRiNgMoDiFy2/languages\n",
      "🌐 Fetching languages from: https://api.github.com/repos/OSMFHtech/Calculator/languages\n",
      "🌐 Fetching languages from: https://api.github.com/repos/OSMFHtech/SLMExam/languages\n",
      "🌐 Fetching languages from: https://api.github.com/repos/OSMFHtech/Tutorium/languages\n",
      "🌐 Fetching languages from: https://api.github.com/repos/OSMFHtech/Projekt-Calc-API/languages\n",
      "✅ Successfully saved 7 repositories to C:\\Users\\OSM_LOQ\\Desktop\\FH Technikum\\4.semester\\Big Data Engineering\\BigDataEngineeringProject\\data\\github_repos.csv\n",
      "\n",
      "📊 Preview of the data:\n"
     ]
    },
    {
     "data": {
      "text/plain": [
       "                  name            created_at languages\n",
       "0   SWARC-Introduction  2023-10-17T13:47:32Z          \n",
       "1  Maintenance-Monitor  2023-07-01T08:23:13Z      Java\n",
       "2        StRiNgMoDiFy2  2023-06-28T17:58:29Z      Java\n",
       "3           Calculator  2023-06-28T13:37:42Z      Java\n",
       "4              SLMExam  2023-06-28T10:31:36Z      Java"
      ],
      "text/html": [
       "<div>\n",
       "<style scoped>\n",
       "    .dataframe tbody tr th:only-of-type {\n",
       "        vertical-align: middle;\n",
       "    }\n",
       "\n",
       "    .dataframe tbody tr th {\n",
       "        vertical-align: top;\n",
       "    }\n",
       "\n",
       "    .dataframe thead th {\n",
       "        text-align: right;\n",
       "    }\n",
       "</style>\n",
       "<table border=\"1\" class=\"dataframe\">\n",
       "  <thead>\n",
       "    <tr style=\"text-align: right;\">\n",
       "      <th></th>\n",
       "      <th>name</th>\n",
       "      <th>created_at</th>\n",
       "      <th>languages</th>\n",
       "    </tr>\n",
       "  </thead>\n",
       "  <tbody>\n",
       "    <tr>\n",
       "      <th>0</th>\n",
       "      <td>SWARC-Introduction</td>\n",
       "      <td>2023-10-17T13:47:32Z</td>\n",
       "      <td></td>\n",
       "    </tr>\n",
       "    <tr>\n",
       "      <th>1</th>\n",
       "      <td>Maintenance-Monitor</td>\n",
       "      <td>2023-07-01T08:23:13Z</td>\n",
       "      <td>Java</td>\n",
       "    </tr>\n",
       "    <tr>\n",
       "      <th>2</th>\n",
       "      <td>StRiNgMoDiFy2</td>\n",
       "      <td>2023-06-28T17:58:29Z</td>\n",
       "      <td>Java</td>\n",
       "    </tr>\n",
       "    <tr>\n",
       "      <th>3</th>\n",
       "      <td>Calculator</td>\n",
       "      <td>2023-06-28T13:37:42Z</td>\n",
       "      <td>Java</td>\n",
       "    </tr>\n",
       "    <tr>\n",
       "      <th>4</th>\n",
       "      <td>SLMExam</td>\n",
       "      <td>2023-06-28T10:31:36Z</td>\n",
       "      <td>Java</td>\n",
       "    </tr>\n",
       "  </tbody>\n",
       "</table>\n",
       "</div>"
      ]
     },
     "metadata": {},
     "output_type": "display_data"
    },
    {
     "name": "stdout",
     "output_type": "stream",
     "text": [
      "\n",
      "📈 Summary:\n",
      "Total repositories: 7\n",
      "Date range: 2023-05-31T17:14:46Z to 2023-10-17T13:47:32Z\n",
      "Unique languages: 2\n"
     ]
    }
   ],
   "execution_count": 6
  },
  {
   "metadata": {},
   "cell_type": "markdown",
   "source": [
    "###  Summary\n",
    "\n",
    "- This notebook uses the GitHub REST API to extract repository metadata.\n",
    "- Output is saved to `../data/github_repos.csv`.\n",
    "- This CSV can now be used by other components in our pipeline (e.g., Kafka producer).\n",
    "\n",
    "Next steps:\n",
    "- Push this notebook and output CSV to the shared GitHub repo.\n",
    "- Use this file as the \"REST API data source\" for the project specification.\n",
    "import requests\n",
    "import os\n",
    "from typing import List, Dict\n",
    "\n",
    "def fetch_repo_data(username: str) -> List[Dict]:\n",
    "    \"\"\"\n",
    "    Fetch repository data for a given GitHub username with improved error handling\n",
    "    \"\"\"\n",
    "    github_token = os.getenv('GITHUB_TOKEN')\n",
    "    headers = {'Authorization': f'token {github_token}'} if github_token else {}\n",
    "    \n",
    "    api_url = f'https://api.github.com/users/{username}/repos'\n",
    "    \n",
    "    try:\n",
    "        response = requests.get(api_url, headers=headers)\n",
    "        response.raise_for_status()  # Raise exception for HTTP errors\n",
    "        \n",
    "        if response.status_code == 200:\n",
    "            repos = response.json()\n",
    "            if not repos:\n",
    "                print(f\"No repositories found for user: {username}\")\n",
    "                return []\n",
    "                \n",
    "            repos_info = []\n",
    "            for repo in repos:\n",
    "                repo_info = {\n",
    "                    'name': repo['name'],\n",
    "                    'stars': repo['stargazers_count'],\n",
    "                    'forks': repo['forks_count'],\n",
    "                    'language': repo['language'],\n",
    "                    'created_at': repo['created_at']\n",
    "                }\n",
    "                repos_info.append(repo_info)\n",
    "            return repos_info\n",
    "            \n",
    "    except requests.exceptions.RequestException as e:\n",
    "        print(f\"Error fetching data: {str(e)}\")\n",
    "        return []\n",
    "    except ValueError as e:\n",
    "        print(f\"Error parsing JSON response: {str(e)}\")\n",
    "        return []\n",
    "    \n",
    "    return []\n",
    "\n",
    "# Usage\n",
    "USERNAME = \"your_github_username\"  # Replace with actual username\n",
    "repos_info = fetch_repo_data(USERNAME)\n",
    "\n",
    "if repos_info:\n",
    "    import pandas as pd\n",
    "    df = pd.DataFrame(repos_info)\n",
    "    print(f\"Found {len(repos_info)} repositories\")\n",
    "    print(df.head())\n",
    "else:\n",
    "    print(\"No repository data found. Please check:\")\n",
    "    print(\"1. GitHub username is correct\")\n",
    "    print(\"2. GitHub token is properly set\")\n",
    "    print(\"3. Network connectivity\")"
   ],
   "id": "389d509f6a017b1f"
  }
 ],
 "metadata": {},
 "nbformat": 4,
 "nbformat_minor": 5
}
