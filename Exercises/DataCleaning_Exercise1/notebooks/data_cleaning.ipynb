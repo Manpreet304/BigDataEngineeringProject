{
 "cells": [
  {
   "cell_type": "markdown",
   "id": "f6229671-08c8-4ab5-9550-af3f0f68e5b4",
   "metadata": {},
   "source": [
    "# Data Cleaning Exercise\n",
    "\n",
    "Cleaning your data is crucial when starting a new data engineering project because it ensures the accuracy, consistency, and reliability of the dataset. Dirty data, which may include duplicates, missing values, and errors, can lead to incorrect analysis and insights, ultimately affecting the decision-making process. Data cleaning helps in identifying and rectifying these issues, providing a solid foundation for building effective data models and analytics. Additionally, clean data improves the performance of algorithms and enhances the overall efficiency of the project, leading to more trustworthy and actionable results."
   ]
  },
  {
   "cell_type": "markdown",
   "id": "bbc2d260-4fd6-4e01-89bc-fe4747c3e1ea",
   "metadata": {},
   "source": [
    "Use Python, ```numpy```, ```pandas``` and/or ```matplotlib``` to analyse and clean your batch data:"
   ]
  },
  {
   "cell_type": "markdown",
   "id": "416e6c68-a09c-4627-b1aa-603a26d1fff7",
   "metadata": {},
   "source": [
    "## Import Libraries"
   ]
  },
  {
   "cell_type": "code",
   "id": "8f0c4277-3351-442e-b87b-f8b678b2f1ab",
   "metadata": {
    "ExecuteTime": {
     "end_time": "2025-05-25T11:50:41.788169Z",
     "start_time": "2025-05-25T11:50:38.072492Z"
    }
   },
   "source": [
    "# TODO\n",
    "import numpy as np\n",
    "import pandas as pd\n",
    "import matplotlib.pyplot as plot"
   ],
   "outputs": [],
   "execution_count": 1
  },
  {
   "cell_type": "markdown",
   "id": "baf3bbbb-caa4-47b2-bdbd-d38a183868f2",
   "metadata": {},
   "source": [
    "## Load Data\n",
    "\n",
    "Link to data source: ```<TODO>```"
   ]
  },
  {
   "cell_type": "code",
   "id": "79e789d3-f9e7-43e4-a1e6-6d8ef254d2e9",
   "metadata": {
    "ExecuteTime": {
     "end_time": "2025-05-25T11:50:43.962767Z",
     "start_time": "2025-05-25T11:50:42.257374Z"
    }
   },
   "source": [
    "# TODO\n",
    "file_path = \"survey_results_public_2022.csv\"\n",
    "try:\n",
    "    rawdata = pd.read_csv(file_path, encoding='latin1')\n",
    "    print(\"Data successfully loaded.\")\n",
    "except FileNotFoundError:\n",
    "    print(f\"Data not found: {file_path}\")\n",
    "except Exception as e:\n",
    "    print(f\"Error at loading the data: {e}\")"
   ],
   "outputs": [
    {
     "name": "stdout",
     "output_type": "stream",
     "text": [
      "Data successfully loaded.\n"
     ]
    }
   ],
   "execution_count": 2
  },
  {
   "cell_type": "markdown",
   "id": "43dc919a-40f5-4254-9d33-3a09ebdb9272",
   "metadata": {},
   "source": [
    "## Understand the Data\n",
    "\n",
    "View the first few rows, get summary statistics and check data types"
   ]
  },
  {
   "cell_type": "code",
   "id": "331051c1-ee77-4a8e-81f0-80502341dc80",
   "metadata": {
    "ExecuteTime": {
     "end_time": "2025-05-25T11:50:46.453038Z",
     "start_time": "2025-05-25T11:50:44.047043Z"
    }
   },
   "source": [
    "# TODO\n",
    "rawdata.head()\n",
    "\n",
    "rawdata.describe(include='all').transpose()\n",
    "\n",
    "summary = pd.DataFrame({\n",
    "    'datatype':         rawdata.dtypes,\n",
    "    'non_null_count':   rawdata.count(),\n",
    "    'missing_count':    rawdata.isnull().sum(),\n",
    "    'missing_percent':  (rawdata.isnull().mean() * 100).round(1)\n",
    "})\n",
    "summary"
   ],
   "outputs": [
    {
     "data": {
      "text/plain": [
       "                    datatype  non_null_count  missing_count  missing_percent\n",
       "ResponseId             int64           73268              0              0.0\n",
       "MainBranch            object           73268              0              0.0\n",
       "Employment            object           71709           1559              2.1\n",
       "RemoteWork            object           58958          14310             19.5\n",
       "CodingActivities      object           58899          14369             19.6\n",
       "...                      ...             ...            ...              ...\n",
       "TrueFalse_2           object           35715          37553             51.3\n",
       "TrueFalse_3           object           35749          37519             51.2\n",
       "SurveyLength          object           70444           2824              3.9\n",
       "SurveyEase            object           70508           2760              3.8\n",
       "ConvertedCompYearly  float64           38071          35197             48.0\n",
       "\n",
       "[79 rows x 4 columns]"
      ],
      "text/html": [
       "<div>\n",
       "<style scoped>\n",
       "    .dataframe tbody tr th:only-of-type {\n",
       "        vertical-align: middle;\n",
       "    }\n",
       "\n",
       "    .dataframe tbody tr th {\n",
       "        vertical-align: top;\n",
       "    }\n",
       "\n",
       "    .dataframe thead th {\n",
       "        text-align: right;\n",
       "    }\n",
       "</style>\n",
       "<table border=\"1\" class=\"dataframe\">\n",
       "  <thead>\n",
       "    <tr style=\"text-align: right;\">\n",
       "      <th></th>\n",
       "      <th>datatype</th>\n",
       "      <th>non_null_count</th>\n",
       "      <th>missing_count</th>\n",
       "      <th>missing_percent</th>\n",
       "    </tr>\n",
       "  </thead>\n",
       "  <tbody>\n",
       "    <tr>\n",
       "      <th>ResponseId</th>\n",
       "      <td>int64</td>\n",
       "      <td>73268</td>\n",
       "      <td>0</td>\n",
       "      <td>0.0</td>\n",
       "    </tr>\n",
       "    <tr>\n",
       "      <th>MainBranch</th>\n",
       "      <td>object</td>\n",
       "      <td>73268</td>\n",
       "      <td>0</td>\n",
       "      <td>0.0</td>\n",
       "    </tr>\n",
       "    <tr>\n",
       "      <th>Employment</th>\n",
       "      <td>object</td>\n",
       "      <td>71709</td>\n",
       "      <td>1559</td>\n",
       "      <td>2.1</td>\n",
       "    </tr>\n",
       "    <tr>\n",
       "      <th>RemoteWork</th>\n",
       "      <td>object</td>\n",
       "      <td>58958</td>\n",
       "      <td>14310</td>\n",
       "      <td>19.5</td>\n",
       "    </tr>\n",
       "    <tr>\n",
       "      <th>CodingActivities</th>\n",
       "      <td>object</td>\n",
       "      <td>58899</td>\n",
       "      <td>14369</td>\n",
       "      <td>19.6</td>\n",
       "    </tr>\n",
       "    <tr>\n",
       "      <th>...</th>\n",
       "      <td>...</td>\n",
       "      <td>...</td>\n",
       "      <td>...</td>\n",
       "      <td>...</td>\n",
       "    </tr>\n",
       "    <tr>\n",
       "      <th>TrueFalse_2</th>\n",
       "      <td>object</td>\n",
       "      <td>35715</td>\n",
       "      <td>37553</td>\n",
       "      <td>51.3</td>\n",
       "    </tr>\n",
       "    <tr>\n",
       "      <th>TrueFalse_3</th>\n",
       "      <td>object</td>\n",
       "      <td>35749</td>\n",
       "      <td>37519</td>\n",
       "      <td>51.2</td>\n",
       "    </tr>\n",
       "    <tr>\n",
       "      <th>SurveyLength</th>\n",
       "      <td>object</td>\n",
       "      <td>70444</td>\n",
       "      <td>2824</td>\n",
       "      <td>3.9</td>\n",
       "    </tr>\n",
       "    <tr>\n",
       "      <th>SurveyEase</th>\n",
       "      <td>object</td>\n",
       "      <td>70508</td>\n",
       "      <td>2760</td>\n",
       "      <td>3.8</td>\n",
       "    </tr>\n",
       "    <tr>\n",
       "      <th>ConvertedCompYearly</th>\n",
       "      <td>float64</td>\n",
       "      <td>38071</td>\n",
       "      <td>35197</td>\n",
       "      <td>48.0</td>\n",
       "    </tr>\n",
       "  </tbody>\n",
       "</table>\n",
       "<p>79 rows × 4 columns</p>\n",
       "</div>"
      ]
     },
     "execution_count": 3,
     "metadata": {},
     "output_type": "execute_result"
    }
   ],
   "execution_count": 3
  },
  {
   "cell_type": "markdown",
   "id": "2d340e14-7bf2-4caa-aec9-c7d6c441e742",
   "metadata": {},
   "source": [
    "## Handle Missing Data\n",
    "\n",
    "Identify missing values and fill or drop missing values"
   ]
  },
  {
   "cell_type": "code",
   "id": "7b594140-0595-423d-8f5c-81faa78de617",
   "metadata": {
    "ExecuteTime": {
     "end_time": "2025-05-25T11:50:49.281959Z",
     "start_time": "2025-05-25T11:50:46.719882Z"
    }
   },
   "source": [
    "# TODO\n",
    "# 1) Überblick vor dem Reinigen\n",
    "print(\"Shape before cleaning:\", rawdata.shape)\n",
    "print(\"\\nMissing values before cleaning:\\n\", rawdata.isnull().sum())\n",
    "\n",
    "# wir legen eine neue Variable an, damit rawdata erhalten bleibt\n",
    "data = rawdata.copy()\n",
    "\n",
    "# 2) Spalten mit zu vielen Nulls (> 80 %) droppen\n",
    "threshold = 0.8\n",
    "high_null_columns = data.columns[data.isnull().mean() > threshold].tolist()\n",
    "print(f\"\\nSpalten mit mehr als {int(threshold * 100)} % Nulls, die gedroppt werden:\", high_null_columns)\n",
    "data = data.drop(columns=high_null_columns)\n",
    "\n",
    "# 3) Numerische Spalten mit Median füllen\n",
    "number_columns = data.select_dtypes(include='number').columns\n",
    "medians = data[number_columns].median()\n",
    "data[number_columns] = data[number_columns].fillna(medians)\n",
    "\n",
    "# 4) String-Spalten mit 'Unknown' füllen\n",
    "string_columns = data.select_dtypes(include=['object']).columns\n",
    "for col in string_columns:\n",
    "    data[col] = data[col].fillna('Unknown')\n",
    "\n",
    "# 5) Kontrolle nach dem Reinigen\n",
    "print(\"\\nShape after cleaning:\", data.shape)\n",
    "print(\"\\nMissing values after cleaning:\\n\", data.isnull().sum())\n"
   ],
   "outputs": [
    {
     "name": "stdout",
     "output_type": "stream",
     "text": [
      "Shape before cleaning: (73268, 79)\n",
      "\n",
      "Missing values before cleaning:\n",
      " ResponseId                 0\n",
      "MainBranch                 0\n",
      "Employment              1559\n",
      "RemoteWork             14310\n",
      "CodingActivities       14369\n",
      "                       ...  \n",
      "TrueFalse_2            37553\n",
      "TrueFalse_3            37519\n",
      "SurveyLength            2824\n",
      "SurveyEase              2760\n",
      "ConvertedCompYearly    35197\n",
      "Length: 79, dtype: int64\n",
      "\n",
      "Spalten mit mehr als 80 % Nulls, die gedroppt werden: ['VCHostingPersonal use', 'VCHostingProfessional use']\n",
      "\n",
      "Shape after cleaning: (73268, 77)\n",
      "\n",
      "Missing values after cleaning:\n",
      " ResponseId             0\n",
      "MainBranch             0\n",
      "Employment             0\n",
      "RemoteWork             0\n",
      "CodingActivities       0\n",
      "                      ..\n",
      "TrueFalse_2            0\n",
      "TrueFalse_3            0\n",
      "SurveyLength           0\n",
      "SurveyEase             0\n",
      "ConvertedCompYearly    0\n",
      "Length: 77, dtype: int64\n"
     ]
    }
   ],
   "execution_count": 4
  },
  {
   "cell_type": "markdown",
   "id": "7523f258-ab6a-463e-8e00-deb2472bd635",
   "metadata": {},
   "source": [
    "## Handle Duplicates\n",
    "\n",
    "Identify duplicates and remove them"
   ]
  },
  {
   "cell_type": "code",
   "id": "83438ded-9349-4bbb-b60c-6730a6a1bc4b",
   "metadata": {
    "ExecuteTime": {
     "end_time": "2025-05-25T11:50:50.103067Z",
     "start_time": "2025-05-25T11:50:49.387062Z"
    }
   },
   "source": [
    "# TODO\n",
    "print(\"Duplicates sum:\", data.duplicated().sum())"
   ],
   "outputs": [
    {
     "name": "stdout",
     "output_type": "stream",
     "text": [
      "Duplicates sum: 0\n"
     ]
    }
   ],
   "execution_count": 5
  },
  {
   "cell_type": "markdown",
   "id": "af2a1520-5170-4516-aad9-b6ef364ceef5",
   "metadata": {},
   "source": [
    "## Handle Outliers\n",
    "\n",
    "Identify outliers and remove or corret them"
   ]
  },
  {
   "cell_type": "code",
   "id": "69f6e351-f568-427d-bf33-915064fd0d15",
   "metadata": {
    "ExecuteTime": {
     "end_time": "2025-05-25T11:50:50.279238Z",
     "start_time": "2025-05-25T11:50:50.235055Z"
    }
   },
   "source": [
    "# TODO\n",
    "# Prüfen, ob numerische Spalten vorhanden sind\n",
    "numeric_cols = data.select_dtypes(include='number').columns\n",
    "if numeric_cols.empty:\n",
    "    print(\"No numerical columns (int/float) available - outlier analysis not applicable.\")\n",
    "else:\n",
    "    for col in numeric_cols:\n",
    "        Q1 = data[col].quantile(0.25)\n",
    "        Q3 = data[col].quantile(0.75)\n",
    "        IQR = Q3 - Q1\n",
    "        mask = (data[col] < Q1 - 1.5 * IQR) | (data[col] > Q3 + 1.5 * IQR)\n",
    "        print(f\"{col}: {mask.sum()} Ausreißer\")\n",
    "\n"
   ],
   "outputs": [
    {
     "name": "stdout",
     "output_type": "stream",
     "text": [
      "ResponseId: 0 Ausreißer\n",
      "CompTotal: 31726 Ausreißer\n",
      "WorkExp: 34921 Ausreißer\n",
      "ConvertedCompYearly: 31968 Ausreißer\n"
     ]
    }
   ],
   "execution_count": 6
  },
  {
   "cell_type": "markdown",
   "id": "ec88a053-b665-4bf8-88fc-59e3ac830d15",
   "metadata": {},
   "source": [
    "## Handle Incorrect Data Types"
   ]
  },
  {
   "cell_type": "code",
   "id": "ebe052cc-6543-4d42-a887-26da3fcc353e",
   "metadata": {
    "ExecuteTime": {
     "end_time": "2025-05-25T11:50:57.754977Z",
     "start_time": "2025-05-25T11:50:50.410020Z"
    }
   },
   "source": [
    "# TODO\n",
    "\n",
    "import re\n",
    "\n",
    "# 1) Aktuelle Datentypen\n",
    "print(\"Current datatypes:\")\n",
    "print(data.dtypes, \"\\n\")\n",
    "\n",
    "# 2) Für jede object-Spalte prüfen\n",
    "total = len(data)\n",
    "date_regex = re.compile(r'^\\d{4}-\\d{2}-\\d{2}T')  # ISO-8601 Beginn: YYYY-MM-DDT\n",
    "\n",
    "for col in data.select_dtypes(include='object').columns:\n",
    "    # Prozent numeric\n",
    "    num_pct = (pd.to_numeric(data[col], errors='coerce').notnull().mean() * 100).round(1)\n",
    "\n",
    "    # Prozent, der mit dem RegEx als Datum erkannt wird\n",
    "    date_pct = (data[col].astype(str)\n",
    "                .str.match(date_regex)\n",
    "                .mean() * 100).round(1)\n",
    "\n",
    "    print(f\"{col!r}: {num_pct}% numeric, {date_pct}% ISO-Date\")\n",
    "\n",
    "    # wenn >90% ISO-Date, tatsächlich umwandeln\n",
    "    if date_pct > 90:\n",
    "        data[col] = pd.to_datetime(data[col], errors='coerce')\n",
    "        print(f\"  → Converted {col!r} to datetime64[ns]\")\n",
    "\n",
    "# 3) Neue Typen ansehen\n",
    "print(\"\\nNew datatypes:\")\n",
    "print(data.dtypes)\n",
    "\n"
   ],
   "outputs": [
    {
     "name": "stdout",
     "output_type": "stream",
     "text": [
      "Current datatypes:\n",
      "ResponseId               int64\n",
      "MainBranch              object\n",
      "Employment              object\n",
      "RemoteWork              object\n",
      "CodingActivities        object\n",
      "                        ...   \n",
      "TrueFalse_2             object\n",
      "TrueFalse_3             object\n",
      "SurveyLength            object\n",
      "SurveyEase              object\n",
      "ConvertedCompYearly    float64\n",
      "Length: 77, dtype: object \n",
      "\n",
      "'MainBranch': 0.0% numeric, 0.0% ISO-Date\n",
      "'Employment': 0.0% numeric, 0.0% ISO-Date\n",
      "'RemoteWork': 0.0% numeric, 0.0% ISO-Date\n",
      "'CodingActivities': 0.0% numeric, 0.0% ISO-Date\n",
      "'EdLevel': 0.0% numeric, 0.0% ISO-Date\n",
      "'LearnCode': 0.0% numeric, 0.0% ISO-Date\n",
      "'LearnCodeOnline': 0.0% numeric, 0.0% ISO-Date\n",
      "'LearnCodeCoursesCert': 0.0% numeric, 0.0% ISO-Date\n",
      "'YearsCode': 95.2% numeric, 0.0% ISO-Date\n",
      "'YearsCodePro': 68.0% numeric, 0.0% ISO-Date\n",
      "'DevType': 0.0% numeric, 0.0% ISO-Date\n",
      "'OrgSize': 0.0% numeric, 0.0% ISO-Date\n",
      "'PurchaseInfluence': 0.0% numeric, 0.0% ISO-Date\n",
      "'BuyNewTool': 0.0% numeric, 0.0% ISO-Date\n",
      "'Country': 0.0% numeric, 0.0% ISO-Date\n",
      "'Currency': 0.0% numeric, 0.0% ISO-Date\n",
      "'CompFreq': 0.0% numeric, 0.0% ISO-Date\n",
      "'LanguageHaveWorkedWith': 0.0% numeric, 0.0% ISO-Date\n",
      "'LanguageWantToWorkWith': 0.0% numeric, 0.0% ISO-Date\n",
      "'DatabaseHaveWorkedWith': 0.0% numeric, 0.0% ISO-Date\n",
      "'DatabaseWantToWorkWith': 0.0% numeric, 0.0% ISO-Date\n",
      "'PlatformHaveWorkedWith': 0.0% numeric, 0.0% ISO-Date\n",
      "'PlatformWantToWorkWith': 0.0% numeric, 0.0% ISO-Date\n",
      "'WebframeHaveWorkedWith': 0.0% numeric, 0.0% ISO-Date\n",
      "'WebframeWantToWorkWith': 0.0% numeric, 0.0% ISO-Date\n",
      "'MiscTechHaveWorkedWith': 0.0% numeric, 0.0% ISO-Date\n",
      "'MiscTechWantToWorkWith': 0.0% numeric, 0.0% ISO-Date\n",
      "'ToolsTechHaveWorkedWith': 0.0% numeric, 0.0% ISO-Date\n",
      "'ToolsTechWantToWorkWith': 0.0% numeric, 0.0% ISO-Date\n",
      "'NEWCollabToolsHaveWorkedWith': 0.0% numeric, 0.0% ISO-Date\n",
      "'NEWCollabToolsWantToWorkWith': 0.0% numeric, 0.0% ISO-Date\n",
      "'OpSysProfessional use': 0.0% numeric, 0.0% ISO-Date\n",
      "'OpSysPersonal use': 0.0% numeric, 0.0% ISO-Date\n",
      "'VersionControlSystem': 0.0% numeric, 0.0% ISO-Date\n",
      "'VCInteraction': 0.0% numeric, 0.0% ISO-Date\n",
      "'OfficeStackAsyncHaveWorkedWith': 0.0% numeric, 0.0% ISO-Date\n",
      "'OfficeStackAsyncWantToWorkWith': 0.0% numeric, 0.0% ISO-Date\n",
      "'OfficeStackSyncHaveWorkedWith': 0.0% numeric, 0.0% ISO-Date\n",
      "'OfficeStackSyncWantToWorkWith': 0.0% numeric, 0.0% ISO-Date\n",
      "'Blockchain': 0.0% numeric, 0.0% ISO-Date\n",
      "'NEWSOSites': 0.0% numeric, 0.0% ISO-Date\n",
      "'SOVisitFreq': 0.0% numeric, 0.0% ISO-Date\n",
      "'SOAccount': 0.0% numeric, 0.0% ISO-Date\n",
      "'SOPartFreq': 0.0% numeric, 0.0% ISO-Date\n",
      "'SOComm': 0.0% numeric, 0.0% ISO-Date\n",
      "'Age': 0.0% numeric, 0.0% ISO-Date\n",
      "'Gender': 0.0% numeric, 0.0% ISO-Date\n",
      "'Trans': 0.0% numeric, 0.0% ISO-Date\n",
      "'Sexuality': 0.0% numeric, 0.0% ISO-Date\n",
      "'Ethnicity': 0.0% numeric, 0.0% ISO-Date\n",
      "'Accessibility': 0.0% numeric, 0.0% ISO-Date\n",
      "'MentalHealth': 0.0% numeric, 0.0% ISO-Date\n",
      "'TBranch': 0.0% numeric, 0.0% ISO-Date\n",
      "'ICorPM': 0.0% numeric, 0.0% ISO-Date\n",
      "'Knowledge_1': 0.0% numeric, 0.0% ISO-Date\n",
      "'Knowledge_2': 0.0% numeric, 0.0% ISO-Date\n",
      "'Knowledge_3': 0.0% numeric, 0.0% ISO-Date\n",
      "'Knowledge_4': 0.0% numeric, 0.0% ISO-Date\n",
      "'Knowledge_5': 0.0% numeric, 0.0% ISO-Date\n",
      "'Knowledge_6': 0.0% numeric, 0.0% ISO-Date\n",
      "'Knowledge_7': 0.0% numeric, 0.0% ISO-Date\n",
      "'Frequency_1': 0.0% numeric, 0.0% ISO-Date\n",
      "'Frequency_2': 0.0% numeric, 0.0% ISO-Date\n",
      "'Frequency_3': 0.0% numeric, 0.0% ISO-Date\n",
      "'TimeSearching': 0.0% numeric, 0.0% ISO-Date\n",
      "'TimeAnswering': 0.0% numeric, 0.0% ISO-Date\n",
      "'Onboarding': 0.0% numeric, 0.0% ISO-Date\n",
      "'ProfessionalTech': 0.0% numeric, 0.0% ISO-Date\n",
      "'TrueFalse_1': 0.0% numeric, 0.0% ISO-Date\n",
      "'TrueFalse_2': 0.0% numeric, 0.0% ISO-Date\n",
      "'TrueFalse_3': 0.0% numeric, 0.0% ISO-Date\n",
      "'SurveyLength': 0.0% numeric, 0.0% ISO-Date\n",
      "'SurveyEase': 0.0% numeric, 0.0% ISO-Date\n",
      "\n",
      "New datatypes:\n",
      "ResponseId               int64\n",
      "MainBranch              object\n",
      "Employment              object\n",
      "RemoteWork              object\n",
      "CodingActivities        object\n",
      "                        ...   \n",
      "TrueFalse_2             object\n",
      "TrueFalse_3             object\n",
      "SurveyLength            object\n",
      "SurveyEase              object\n",
      "ConvertedCompYearly    float64\n",
      "Length: 77, dtype: object\n"
     ]
    }
   ],
   "execution_count": 7
  },
  {
   "cell_type": "markdown",
   "id": "b4b81f4b-086b-47bb-8001-e3bca4dfcf01",
   "metadata": {},
   "source": [
    "## Visualize Data\n",
    "\n",
    "Use graphes, plots and/or diagrams to visualize the data"
   ]
  },
  {
   "cell_type": "code",
   "id": "3288f622-4d5c-4de6-8302-51a60377e8bb",
   "metadata": {
    "ExecuteTime": {
     "end_time": "2025-05-25T11:50:59.566581Z",
     "start_time": "2025-05-25T11:50:57.843612Z"
    }
   },
   "source": [
    "# TODO\n",
    "\n",
    "# 1) Posting-Dauer in Tagen\n",
    "data['duration_days'] = (data['Last Seen At'] - data['First Seen At']).dt.days\n",
    "plot.figure(figsize=(10, 6))\n",
    "plot.hist(data['duration_days'].dropna(), bins=30, color='skyblue', edgecolor='black')\n",
    "plot.title('Distribution of Posting Duration (days)')\n",
    "plot.xlabel('Days online')\n",
    "plot.ylabel('Count')\n",
    "plot.grid(True, linestyle='--', alpha=0.6)\n",
    "plot.tight_layout()\n",
    "plot.show()\n",
    "\n",
    "# 2) Top 10 Job Kategorien\n",
    "top_categories = data['Category'].value_counts().nlargest(10)\n",
    "plot.figure(figsize=(10, 6))\n",
    "top_categories.plot.bar(color='steelblue', edgecolor='black')\n",
    "plot.title('Top 10 Job Categories')\n",
    "plot.xlabel('Category')\n",
    "plot.ylabel('Number of Postings')\n",
    "plot.xticks(rotation=45, ha='right')\n",
    "plot.grid(axis='y', linestyle='--', alpha=0.6)\n",
    "plot.tight_layout()\n",
    "plot.show()\n",
    "\n",
    "# 3) Länge der Job-Beschreibung\n",
    "data['desc_len'] = data['Description'].astype(str).str.len()\n",
    "plot.figure(figsize=(10, 6))\n",
    "plot.hist(data['desc_len'].dropna(), bins=30, color='lightgreen', edgecolor='black')\n",
    "plot.title('Distribution of Description Length')\n",
    "plot.xlabel('Characters')\n",
    "plot.ylabel('Count')\n",
    "plot.grid(True, linestyle='--', alpha=0.6)\n",
    "plot.tight_layout()\n",
    "plot.show()\n",
    "\n",
    "# 4) Seniority-Verteilung\n",
    "seniority_counts = data['Seniority'].value_counts()\n",
    "plot.figure(figsize=(10, 6))\n",
    "seniority_counts.plot.barh(color='skyblue', edgecolor='black')\n",
    "plot.title('Seniority Distribution')\n",
    "plot.xlabel('Number of Postings')\n",
    "plot.ylabel('Seniority Level')\n",
    "plot.grid(axis='x', linestyle='--', alpha=0.6)\n",
    "plot.tight_layout()\n",
    "plot.show()\n"
   ],
   "outputs": [
    {
     "ename": "KeyError",
     "evalue": "'Last Seen At'",
     "output_type": "error",
     "traceback": [
      "\u001B[1;31m---------------------------------------------------------------------------\u001B[0m",
      "\u001B[1;31mKeyError\u001B[0m                                  Traceback (most recent call last)",
      "File \u001B[1;32m~\\AppData\\Local\\Programs\\Python\\Python38\\lib\\site-packages\\pandas\\core\\indexes\\base.py:3653\u001B[0m, in \u001B[0;36mIndex.get_loc\u001B[1;34m(self, key)\u001B[0m\n\u001B[0;32m   3652\u001B[0m \u001B[38;5;28;01mtry\u001B[39;00m:\n\u001B[1;32m-> 3653\u001B[0m     \u001B[38;5;28;01mreturn\u001B[39;00m \u001B[38;5;28;43mself\u001B[39;49m\u001B[38;5;241;43m.\u001B[39;49m\u001B[43m_engine\u001B[49m\u001B[38;5;241;43m.\u001B[39;49m\u001B[43mget_loc\u001B[49m\u001B[43m(\u001B[49m\u001B[43mcasted_key\u001B[49m\u001B[43m)\u001B[49m\n\u001B[0;32m   3654\u001B[0m \u001B[38;5;28;01mexcept\u001B[39;00m \u001B[38;5;167;01mKeyError\u001B[39;00m \u001B[38;5;28;01mas\u001B[39;00m err:\n",
      "File \u001B[1;32m~\\AppData\\Local\\Programs\\Python\\Python38\\lib\\site-packages\\pandas\\_libs\\index.pyx:147\u001B[0m, in \u001B[0;36mpandas._libs.index.IndexEngine.get_loc\u001B[1;34m()\u001B[0m\n",
      "File \u001B[1;32m~\\AppData\\Local\\Programs\\Python\\Python38\\lib\\site-packages\\pandas\\_libs\\index.pyx:176\u001B[0m, in \u001B[0;36mpandas._libs.index.IndexEngine.get_loc\u001B[1;34m()\u001B[0m\n",
      "File \u001B[1;32mpandas\\_libs\\hashtable_class_helper.pxi:7080\u001B[0m, in \u001B[0;36mpandas._libs.hashtable.PyObjectHashTable.get_item\u001B[1;34m()\u001B[0m\n",
      "File \u001B[1;32mpandas\\_libs\\hashtable_class_helper.pxi:7088\u001B[0m, in \u001B[0;36mpandas._libs.hashtable.PyObjectHashTable.get_item\u001B[1;34m()\u001B[0m\n",
      "\u001B[1;31mKeyError\u001B[0m: 'Last Seen At'",
      "\nThe above exception was the direct cause of the following exception:\n",
      "\u001B[1;31mKeyError\u001B[0m                                  Traceback (most recent call last)",
      "Cell \u001B[1;32mIn[8], line 4\u001B[0m\n\u001B[0;32m      1\u001B[0m \u001B[38;5;66;03m# TODO\u001B[39;00m\n\u001B[0;32m      2\u001B[0m \n\u001B[0;32m      3\u001B[0m \u001B[38;5;66;03m# 1) Posting-Dauer in Tagen\u001B[39;00m\n\u001B[1;32m----> 4\u001B[0m data[\u001B[38;5;124m'\u001B[39m\u001B[38;5;124mduration_days\u001B[39m\u001B[38;5;124m'\u001B[39m] \u001B[38;5;241m=\u001B[39m (\u001B[43mdata\u001B[49m\u001B[43m[\u001B[49m\u001B[38;5;124;43m'\u001B[39;49m\u001B[38;5;124;43mLast Seen At\u001B[39;49m\u001B[38;5;124;43m'\u001B[39;49m\u001B[43m]\u001B[49m \u001B[38;5;241m-\u001B[39m data[\u001B[38;5;124m'\u001B[39m\u001B[38;5;124mFirst Seen At\u001B[39m\u001B[38;5;124m'\u001B[39m])\u001B[38;5;241m.\u001B[39mdt\u001B[38;5;241m.\u001B[39mdays\n\u001B[0;32m      5\u001B[0m plot\u001B[38;5;241m.\u001B[39mfigure(figsize\u001B[38;5;241m=\u001B[39m(\u001B[38;5;241m10\u001B[39m, \u001B[38;5;241m6\u001B[39m))\n\u001B[0;32m      6\u001B[0m plot\u001B[38;5;241m.\u001B[39mhist(data[\u001B[38;5;124m'\u001B[39m\u001B[38;5;124mduration_days\u001B[39m\u001B[38;5;124m'\u001B[39m]\u001B[38;5;241m.\u001B[39mdropna(), bins\u001B[38;5;241m=\u001B[39m\u001B[38;5;241m30\u001B[39m, color\u001B[38;5;241m=\u001B[39m\u001B[38;5;124m'\u001B[39m\u001B[38;5;124mskyblue\u001B[39m\u001B[38;5;124m'\u001B[39m, edgecolor\u001B[38;5;241m=\u001B[39m\u001B[38;5;124m'\u001B[39m\u001B[38;5;124mblack\u001B[39m\u001B[38;5;124m'\u001B[39m)\n",
      "File \u001B[1;32m~\\AppData\\Local\\Programs\\Python\\Python38\\lib\\site-packages\\pandas\\core\\frame.py:3761\u001B[0m, in \u001B[0;36mDataFrame.__getitem__\u001B[1;34m(self, key)\u001B[0m\n\u001B[0;32m   3759\u001B[0m \u001B[38;5;28;01mif\u001B[39;00m \u001B[38;5;28mself\u001B[39m\u001B[38;5;241m.\u001B[39mcolumns\u001B[38;5;241m.\u001B[39mnlevels \u001B[38;5;241m>\u001B[39m \u001B[38;5;241m1\u001B[39m:\n\u001B[0;32m   3760\u001B[0m     \u001B[38;5;28;01mreturn\u001B[39;00m \u001B[38;5;28mself\u001B[39m\u001B[38;5;241m.\u001B[39m_getitem_multilevel(key)\n\u001B[1;32m-> 3761\u001B[0m indexer \u001B[38;5;241m=\u001B[39m \u001B[38;5;28;43mself\u001B[39;49m\u001B[38;5;241;43m.\u001B[39;49m\u001B[43mcolumns\u001B[49m\u001B[38;5;241;43m.\u001B[39;49m\u001B[43mget_loc\u001B[49m\u001B[43m(\u001B[49m\u001B[43mkey\u001B[49m\u001B[43m)\u001B[49m\n\u001B[0;32m   3762\u001B[0m \u001B[38;5;28;01mif\u001B[39;00m is_integer(indexer):\n\u001B[0;32m   3763\u001B[0m     indexer \u001B[38;5;241m=\u001B[39m [indexer]\n",
      "File \u001B[1;32m~\\AppData\\Local\\Programs\\Python\\Python38\\lib\\site-packages\\pandas\\core\\indexes\\base.py:3655\u001B[0m, in \u001B[0;36mIndex.get_loc\u001B[1;34m(self, key)\u001B[0m\n\u001B[0;32m   3653\u001B[0m     \u001B[38;5;28;01mreturn\u001B[39;00m \u001B[38;5;28mself\u001B[39m\u001B[38;5;241m.\u001B[39m_engine\u001B[38;5;241m.\u001B[39mget_loc(casted_key)\n\u001B[0;32m   3654\u001B[0m \u001B[38;5;28;01mexcept\u001B[39;00m \u001B[38;5;167;01mKeyError\u001B[39;00m \u001B[38;5;28;01mas\u001B[39;00m err:\n\u001B[1;32m-> 3655\u001B[0m     \u001B[38;5;28;01mraise\u001B[39;00m \u001B[38;5;167;01mKeyError\u001B[39;00m(key) \u001B[38;5;28;01mfrom\u001B[39;00m\u001B[38;5;250m \u001B[39m\u001B[38;5;21;01merr\u001B[39;00m\n\u001B[0;32m   3656\u001B[0m \u001B[38;5;28;01mexcept\u001B[39;00m \u001B[38;5;167;01mTypeError\u001B[39;00m:\n\u001B[0;32m   3657\u001B[0m     \u001B[38;5;66;03m# If we have a listlike key, _check_indexing_error will raise\u001B[39;00m\n\u001B[0;32m   3658\u001B[0m     \u001B[38;5;66;03m#  InvalidIndexError. Otherwise we fall through and re-raise\u001B[39;00m\n\u001B[0;32m   3659\u001B[0m     \u001B[38;5;66;03m#  the TypeError.\u001B[39;00m\n\u001B[0;32m   3660\u001B[0m     \u001B[38;5;28mself\u001B[39m\u001B[38;5;241m.\u001B[39m_check_indexing_error(key)\n",
      "\u001B[1;31mKeyError\u001B[0m: 'Last Seen At'"
     ]
    }
   ],
   "execution_count": 8
  },
  {
   "cell_type": "markdown",
   "id": "b1fe4e07-2241-44dc-af0d-c4b08e4ddb2e",
   "metadata": {},
   "source": [
    "## Save Cleaned Data"
   ]
  },
  {
   "cell_type": "code",
   "id": "a5cdee23-dc0a-4bc0-a3c3-32c0a361af35",
   "metadata": {
    "ExecuteTime": {
     "end_time": "2025-05-25T11:51:00.780986600Z",
     "start_time": "2025-05-07T16:31:40.400824Z"
    }
   },
   "source": [
    "# TODO\n",
    "\n",
    "output_path = '../Job Posting.csv/Job Posting_cleaned.csv'\n",
    "\n",
    "data.to_csv(output_path, index=False)\n",
    "\n",
    "print(f\"Cleaned data saved to: {output_path}\")\n"
   ],
   "outputs": [
    {
     "name": "stdout",
     "output_type": "stream",
     "text": [
      "Cleaned data saved to: ../Job Posting.csv/Job Posting_cleaned.csv\n"
     ]
    }
   ],
   "execution_count": 18
  }
 ],
 "metadata": {
  "kernelspec": {
   "display_name": "Python 3 (ipykernel)",
   "language": "python",
   "name": "python3"
  },
  "language_info": {
   "codemirror_mode": {
    "name": "ipython",
    "version": 3
   },
   "file_extension": ".py",
   "mimetype": "text/x-python",
   "name": "python",
   "nbconvert_exporter": "python",
   "pygments_lexer": "ipython3",
   "version": "3.12.7"
  }
 },
 "nbformat": 4,
 "nbformat_minor": 5
}
