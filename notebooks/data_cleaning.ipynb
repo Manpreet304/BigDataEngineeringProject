{
 "cells": [
  {
   "cell_type": "markdown",
   "id": "f6229671-08c8-4ab5-9550-af3f0f68e5b4",
   "metadata": {},
   "source": [
    "# Data Cleaning Exercise\n",
    "\n",
    "Cleaning your data is crucial when starting a new data engineering project because it ensures the accuracy, consistency, and reliability of the dataset. Dirty data, which may include duplicates, missing values, and errors, can lead to incorrect analysis and insights, ultimately affecting the decision-making process. Data cleaning helps in identifying and rectifying these issues, providing a solid foundation for building effective data models and analytics. Additionally, clean data improves the performance of algorithms and enhances the overall efficiency of the project, leading to more trustworthy and actionable results."
   ]
  },
  {
   "cell_type": "markdown",
   "id": "bbc2d260-4fd6-4e01-89bc-fe4747c3e1ea",
   "metadata": {},
   "source": [
    "Use Python, ```numpy```, ```pandas``` and/or ```matplotlib``` to analyse and clean your batch data:"
   ]
  },
  {
   "cell_type": "markdown",
   "id": "416e6c68-a09c-4627-b1aa-603a26d1fff7",
   "metadata": {},
   "source": [
    "## Import Libraries"
   ]
  },
  {
   "cell_type": "code",
   "id": "8f0c4277-3351-442e-b87b-f8b678b2f1ab",
   "metadata": {
    "ExecuteTime": {
     "end_time": "2025-05-01T19:10:01.924299Z",
     "start_time": "2025-05-01T19:10:01.912058Z"
    }
   },
   "source": [
    "# TODO\n",
    "import numpy as np\n",
    "import pandas as pd\n",
    "import matplotlib.pyplot as plot"
   ],
   "outputs": [],
   "execution_count": 89
  },
  {
   "cell_type": "markdown",
   "id": "baf3bbbb-caa4-47b2-bdbd-d38a183868f2",
   "metadata": {},
   "source": [
    "## Load Data\n",
    "\n",
    "Link to data source: ```<TODO>```"
   ]
  },
  {
   "cell_type": "code",
   "id": "79e789d3-f9e7-43e4-a1e6-6d8ef254d2e9",
   "metadata": {
    "ExecuteTime": {
     "end_time": "2025-05-01T19:10:02.672105Z",
     "start_time": "2025-05-01T19:10:01.933960Z"
    }
   },
   "source": [
    "# TODO\n",
    "file_path = r'../Job Posting.csv/Job Posting.csv'\n",
    "rawdata = pd.read_csv(file_path, encoding='latin1')"
   ],
   "outputs": [],
   "execution_count": 90
  },
  {
   "cell_type": "markdown",
   "id": "43dc919a-40f5-4254-9d33-3a09ebdb9272",
   "metadata": {},
   "source": [
    "## Understand the Data\n",
    "\n",
    "View the first few rows, get summary statistics and check data types"
   ]
  },
  {
   "cell_type": "code",
   "id": "331051c1-ee77-4a8e-81f0-80502341dc80",
   "metadata": {
    "ExecuteTime": {
     "end_time": "2025-05-01T19:10:03.082584Z",
     "start_time": "2025-05-01T19:10:02.759850Z"
    }
   },
   "source": [
    "# TODO\n",
    "rawdata.head()\n",
    "\n",
    "rawdata.describe(include='all').transpose()\n",
    "\n",
    "summary = pd.DataFrame({\n",
    "    'datatype':         rawdata.dtypes,\n",
    "    'non_null_count':   rawdata.count(),\n",
    "    'missing_count':    rawdata.isnull().sum(),\n",
    "    'missing_percent':  (rawdata.isnull().mean() * 100).round(1)\n",
    "})\n",
    "summary"
   ],
   "outputs": [
    {
     "data": {
      "text/plain": [
       "                      datatype  non_null_count  missing_count  missing_percent\n",
       "Website Domain          object            9919              0              0.0\n",
       "Ticker                 float64               0           9919            100.0\n",
       "Job Opening Title       object            9919              0              0.0\n",
       "Job Opening URL         object            9919              0              0.0\n",
       "First Seen At           object            9919              0              0.0\n",
       "Last Seen At            object            9919              0              0.0\n",
       "Location                object            9508            411              4.1\n",
       "Location Data           object            9919              0              0.0\n",
       "Category                object            8250           1669             16.8\n",
       "Seniority               object            9919              0              0.0\n",
       "Keywords                object            7646           2273             22.9\n",
       "Description             object            9807            112              1.1\n",
       "Salary                  object             576           9343             94.2\n",
       "Salary Data             object            9919              0              0.0\n",
       "Contract Types          object            8004           1915             19.3\n",
       "Job Status              object            6772           3147             31.7\n",
       "Job Language            object            9917              2              0.0\n",
       "Job Last Processed At   object            9919              0              0.0\n",
       "O*NET Code              object            9916              3              0.0\n",
       "O*NET Family            object            9916              3              0.0\n",
       "O*NET Occupation Name   object            9916              3              0.0"
      ],
      "text/html": [
       "<div>\n",
       "<style scoped>\n",
       "    .dataframe tbody tr th:only-of-type {\n",
       "        vertical-align: middle;\n",
       "    }\n",
       "\n",
       "    .dataframe tbody tr th {\n",
       "        vertical-align: top;\n",
       "    }\n",
       "\n",
       "    .dataframe thead th {\n",
       "        text-align: right;\n",
       "    }\n",
       "</style>\n",
       "<table border=\"1\" class=\"dataframe\">\n",
       "  <thead>\n",
       "    <tr style=\"text-align: right;\">\n",
       "      <th></th>\n",
       "      <th>datatype</th>\n",
       "      <th>non_null_count</th>\n",
       "      <th>missing_count</th>\n",
       "      <th>missing_percent</th>\n",
       "    </tr>\n",
       "  </thead>\n",
       "  <tbody>\n",
       "    <tr>\n",
       "      <th>Website Domain</th>\n",
       "      <td>object</td>\n",
       "      <td>9919</td>\n",
       "      <td>0</td>\n",
       "      <td>0.0</td>\n",
       "    </tr>\n",
       "    <tr>\n",
       "      <th>Ticker</th>\n",
       "      <td>float64</td>\n",
       "      <td>0</td>\n",
       "      <td>9919</td>\n",
       "      <td>100.0</td>\n",
       "    </tr>\n",
       "    <tr>\n",
       "      <th>Job Opening Title</th>\n",
       "      <td>object</td>\n",
       "      <td>9919</td>\n",
       "      <td>0</td>\n",
       "      <td>0.0</td>\n",
       "    </tr>\n",
       "    <tr>\n",
       "      <th>Job Opening URL</th>\n",
       "      <td>object</td>\n",
       "      <td>9919</td>\n",
       "      <td>0</td>\n",
       "      <td>0.0</td>\n",
       "    </tr>\n",
       "    <tr>\n",
       "      <th>First Seen At</th>\n",
       "      <td>object</td>\n",
       "      <td>9919</td>\n",
       "      <td>0</td>\n",
       "      <td>0.0</td>\n",
       "    </tr>\n",
       "    <tr>\n",
       "      <th>Last Seen At</th>\n",
       "      <td>object</td>\n",
       "      <td>9919</td>\n",
       "      <td>0</td>\n",
       "      <td>0.0</td>\n",
       "    </tr>\n",
       "    <tr>\n",
       "      <th>Location</th>\n",
       "      <td>object</td>\n",
       "      <td>9508</td>\n",
       "      <td>411</td>\n",
       "      <td>4.1</td>\n",
       "    </tr>\n",
       "    <tr>\n",
       "      <th>Location Data</th>\n",
       "      <td>object</td>\n",
       "      <td>9919</td>\n",
       "      <td>0</td>\n",
       "      <td>0.0</td>\n",
       "    </tr>\n",
       "    <tr>\n",
       "      <th>Category</th>\n",
       "      <td>object</td>\n",
       "      <td>8250</td>\n",
       "      <td>1669</td>\n",
       "      <td>16.8</td>\n",
       "    </tr>\n",
       "    <tr>\n",
       "      <th>Seniority</th>\n",
       "      <td>object</td>\n",
       "      <td>9919</td>\n",
       "      <td>0</td>\n",
       "      <td>0.0</td>\n",
       "    </tr>\n",
       "    <tr>\n",
       "      <th>Keywords</th>\n",
       "      <td>object</td>\n",
       "      <td>7646</td>\n",
       "      <td>2273</td>\n",
       "      <td>22.9</td>\n",
       "    </tr>\n",
       "    <tr>\n",
       "      <th>Description</th>\n",
       "      <td>object</td>\n",
       "      <td>9807</td>\n",
       "      <td>112</td>\n",
       "      <td>1.1</td>\n",
       "    </tr>\n",
       "    <tr>\n",
       "      <th>Salary</th>\n",
       "      <td>object</td>\n",
       "      <td>576</td>\n",
       "      <td>9343</td>\n",
       "      <td>94.2</td>\n",
       "    </tr>\n",
       "    <tr>\n",
       "      <th>Salary Data</th>\n",
       "      <td>object</td>\n",
       "      <td>9919</td>\n",
       "      <td>0</td>\n",
       "      <td>0.0</td>\n",
       "    </tr>\n",
       "    <tr>\n",
       "      <th>Contract Types</th>\n",
       "      <td>object</td>\n",
       "      <td>8004</td>\n",
       "      <td>1915</td>\n",
       "      <td>19.3</td>\n",
       "    </tr>\n",
       "    <tr>\n",
       "      <th>Job Status</th>\n",
       "      <td>object</td>\n",
       "      <td>6772</td>\n",
       "      <td>3147</td>\n",
       "      <td>31.7</td>\n",
       "    </tr>\n",
       "    <tr>\n",
       "      <th>Job Language</th>\n",
       "      <td>object</td>\n",
       "      <td>9917</td>\n",
       "      <td>2</td>\n",
       "      <td>0.0</td>\n",
       "    </tr>\n",
       "    <tr>\n",
       "      <th>Job Last Processed At</th>\n",
       "      <td>object</td>\n",
       "      <td>9919</td>\n",
       "      <td>0</td>\n",
       "      <td>0.0</td>\n",
       "    </tr>\n",
       "    <tr>\n",
       "      <th>O*NET Code</th>\n",
       "      <td>object</td>\n",
       "      <td>9916</td>\n",
       "      <td>3</td>\n",
       "      <td>0.0</td>\n",
       "    </tr>\n",
       "    <tr>\n",
       "      <th>O*NET Family</th>\n",
       "      <td>object</td>\n",
       "      <td>9916</td>\n",
       "      <td>3</td>\n",
       "      <td>0.0</td>\n",
       "    </tr>\n",
       "    <tr>\n",
       "      <th>O*NET Occupation Name</th>\n",
       "      <td>object</td>\n",
       "      <td>9916</td>\n",
       "      <td>3</td>\n",
       "      <td>0.0</td>\n",
       "    </tr>\n",
       "  </tbody>\n",
       "</table>\n",
       "</div>"
      ]
     },
     "execution_count": 91,
     "metadata": {},
     "output_type": "execute_result"
    }
   ],
   "execution_count": 91
  },
  {
   "cell_type": "markdown",
   "id": "2d340e14-7bf2-4caa-aec9-c7d6c441e742",
   "metadata": {},
   "source": [
    "## Handle Missing Data\n",
    "\n",
    "Identify missing values and fill or drop missing values"
   ]
  },
  {
   "cell_type": "code",
   "id": "7b594140-0595-423d-8f5c-81faa78de617",
   "metadata": {
    "ExecuteTime": {
     "end_time": "2025-05-01T19:10:03.674169Z",
     "start_time": "2025-05-01T19:10:03.327672Z"
    }
   },
   "source": [
    "# TODO\n",
    "# 1) Überblick vor dem Reinigen\n",
    "print(\"Shape before cleaning:\", rawdata.shape)\n",
    "print(\"\\nMissing values before cleaning:\\n\", rawdata.isnull().sum())\n",
    "\n",
    "# wir legen eine neue Variable an, damit rawdata erhalten bleibt\n",
    "data = rawdata.copy()\n",
    "\n",
    "# 2) Spalten mit zu vielen Nulls (> 80 %) droppen\n",
    "threshold = 0.8\n",
    "high_null_columns = data.columns[data.isnull().mean() > threshold].tolist()\n",
    "print(f\"\\nSpalten mit mehr als {int(threshold * 100)} % Nulls, die gedroppt werden:\", high_null_columns)\n",
    "data = data.drop(columns=high_null_columns)\n",
    "\n",
    "# 3) Numerische Spalten mit Median füllen\n",
    "number_columns = data.select_dtypes(include='number').columns\n",
    "medians = data[number_columns].median()\n",
    "data[number_columns] = data[number_columns].fillna(medians)\n",
    "\n",
    "# 4) String-Spalten mit 'Unknown' füllen\n",
    "string_columns = data.select_dtypes(include=['object']).columns\n",
    "for col in string_columns:\n",
    "    data[col] = data[col].fillna('Unknown')\n",
    "\n",
    "# 5) Kontrolle nach dem Reinigen\n",
    "print(\"\\nShape after cleaning:\", data.shape)\n",
    "print(\"\\nMissing values after cleaning:\\n\", data.isnull().sum())\n"
   ],
   "outputs": [
    {
     "name": "stdout",
     "output_type": "stream",
     "text": [
      "Shape before cleaning: (9919, 21)\n",
      "\n",
      "Missing values before cleaning:\n",
      " Website Domain              0\n",
      "Ticker                   9919\n",
      "Job Opening Title           0\n",
      "Job Opening URL             0\n",
      "First Seen At               0\n",
      "Last Seen At                0\n",
      "Location                  411\n",
      "Location Data               0\n",
      "Category                 1669\n",
      "Seniority                   0\n",
      "Keywords                 2273\n",
      "Description               112\n",
      "Salary                   9343\n",
      "Salary Data                 0\n",
      "Contract Types           1915\n",
      "Job Status               3147\n",
      "Job Language                2\n",
      "Job Last Processed At       0\n",
      "O*NET Code                  3\n",
      "O*NET Family                3\n",
      "O*NET Occupation Name       3\n",
      "dtype: int64\n",
      "\n",
      "Spalten mit mehr als 80 % Nulls, die gedroppt werden: ['Ticker', 'Salary']\n",
      "\n",
      "Shape after cleaning: (9919, 19)\n",
      "\n",
      "Missing values after cleaning:\n",
      " Website Domain           0\n",
      "Job Opening Title        0\n",
      "Job Opening URL          0\n",
      "First Seen At            0\n",
      "Last Seen At             0\n",
      "Location                 0\n",
      "Location Data            0\n",
      "Category                 0\n",
      "Seniority                0\n",
      "Keywords                 0\n",
      "Description              0\n",
      "Salary Data              0\n",
      "Contract Types           0\n",
      "Job Status               0\n",
      "Job Language             0\n",
      "Job Last Processed At    0\n",
      "O*NET Code               0\n",
      "O*NET Family             0\n",
      "O*NET Occupation Name    0\n",
      "dtype: int64\n"
     ]
    }
   ],
   "execution_count": 92
  },
  {
   "cell_type": "markdown",
   "id": "7523f258-ab6a-463e-8e00-deb2472bd635",
   "metadata": {},
   "source": [
    "## Handle Duplicates\n",
    "\n",
    "Identify duplicates and remove them"
   ]
  },
  {
   "cell_type": "code",
   "id": "83438ded-9349-4bbb-b60c-6730a6a1bc4b",
   "metadata": {
    "ExecuteTime": {
     "end_time": "2025-05-01T19:10:03.937141Z",
     "start_time": "2025-05-01T19:10:03.717894Z"
    }
   },
   "source": [
    "# TODO\n",
    "print(\"Duplicates sum:\", data.duplicated().sum())"
   ],
   "outputs": [
    {
     "name": "stdout",
     "output_type": "stream",
     "text": [
      "Duplicates sum: 0\n"
     ]
    }
   ],
   "execution_count": 93
  },
  {
   "cell_type": "markdown",
   "id": "af2a1520-5170-4516-aad9-b6ef364ceef5",
   "metadata": {},
   "source": [
    "## Handle Outliers\n",
    "\n",
    "Identify outliers and remove or corret them"
   ]
  },
  {
   "cell_type": "code",
   "id": "69f6e351-f568-427d-bf33-915064fd0d15",
   "metadata": {
    "ExecuteTime": {
     "end_time": "2025-05-01T19:10:04.047750Z",
     "start_time": "2025-05-01T19:10:04.038255Z"
    }
   },
   "source": [
    "# TODO\n",
    "# Prüfen, ob numerische Spalten vorhanden sind\n",
    "numeric_cols = data.select_dtypes(include='number').columns\n",
    "if numeric_cols.empty:\n",
    "    print(\"Keine numerischen Spalten (int/float) vorhanden – Ausreißer-Analyse entfällt.\")\n",
    "else:\n",
    "    # Dein IQR-Code hier\n",
    "    for col in numeric_cols:\n",
    "        Q1 = data[col].quantile(0.25)\n",
    "        Q3 = data[col].quantile(0.75)\n",
    "        IQR = Q3 - Q1\n",
    "        mask = (data[col] < Q1 - 1.5 * IQR) | (data[col] > Q3 + 1.5 * IQR)\n",
    "        print(f\"{col}: {mask.sum()} Ausreißer\")\n",
    "\n"
   ],
   "outputs": [
    {
     "name": "stdout",
     "output_type": "stream",
     "text": [
      "Keine numerischen Spalten (int/float) vorhanden – Ausreißer-Analyse entfällt.\n"
     ]
    }
   ],
   "execution_count": 94
  },
  {
   "cell_type": "markdown",
   "id": "ec88a053-b665-4bf8-88fc-59e3ac830d15",
   "metadata": {},
   "source": [
    "## Handle Incorrect Data Types"
   ]
  },
  {
   "cell_type": "code",
   "id": "ebe052cc-6543-4d42-a887-26da3fcc353e",
   "metadata": {
    "ExecuteTime": {
     "end_time": "2025-05-01T19:10:04.655507Z",
     "start_time": "2025-05-01T19:10:04.134651Z"
    }
   },
   "source": [
    "# TODO\n",
    "\n",
    "import re\n",
    "\n",
    "# 1) Aktuelle Datentypen\n",
    "print(\"Current datatypes:\")\n",
    "print(data.dtypes, \"\\n\")\n",
    "\n",
    "# 2) Für jede object-Spalte prüfen\n",
    "total = len(data)\n",
    "date_regex = re.compile(r'^\\d{4}-\\d{2}-\\d{2}T')  # ISO-8601 Beginn: YYYY-MM-DDT\n",
    "\n",
    "for col in data.select_dtypes(include='object').columns:\n",
    "    # Prozent numeric\n",
    "    num_pct = (pd.to_numeric(data[col], errors='coerce').notnull().mean() * 100).round(1)\n",
    "\n",
    "    # Prozent, der mit dem RegEx als Datum erkannt wird\n",
    "    date_pct = (data[col].astype(str)\n",
    "                .str.match(date_regex)\n",
    "                .mean() * 100).round(1)\n",
    "\n",
    "    print(f\"{col!r}: {num_pct}% numeric, {date_pct}% ISO-Date\")\n",
    "\n",
    "    # wenn >90% ISO-Date, tatsächlich umwandeln\n",
    "    if date_pct > 90:\n",
    "        data[col] = pd.to_datetime(data[col], errors='coerce')\n",
    "        print(f\"  → Converted {col!r} to datetime64[ns]\")\n",
    "\n",
    "# 3) Neue Typen ansehen\n",
    "print(\"\\nNew datatypes:\")\n",
    "print(data.dtypes)\n",
    "\n"
   ],
   "outputs": [
    {
     "name": "stdout",
     "output_type": "stream",
     "text": [
      "Current datatypes:\n",
      "Website Domain           object\n",
      "Job Opening Title        object\n",
      "Job Opening URL          object\n",
      "First Seen At            object\n",
      "Last Seen At             object\n",
      "Location                 object\n",
      "Location Data            object\n",
      "Category                 object\n",
      "Seniority                object\n",
      "Keywords                 object\n",
      "Description              object\n",
      "Salary Data              object\n",
      "Contract Types           object\n",
      "Job Status               object\n",
      "Job Language             object\n",
      "Job Last Processed At    object\n",
      "O*NET Code               object\n",
      "O*NET Family             object\n",
      "O*NET Occupation Name    object\n",
      "dtype: object \n",
      "\n",
      "'Website Domain': 0.0% numeric, 0.0% ISO-Date\n",
      "'Job Opening Title': 0.0% numeric, 0.0% ISO-Date\n",
      "'Job Opening URL': 0.0% numeric, 0.0% ISO-Date\n",
      "'First Seen At': 0.0% numeric, 100.0% ISO-Date\n",
      "  → Converted 'First Seen At' to datetime64[ns]\n",
      "'Last Seen At': 0.0% numeric, 100.0% ISO-Date\n",
      "  → Converted 'Last Seen At' to datetime64[ns]\n",
      "'Location': 0.0% numeric, 0.0% ISO-Date\n",
      "'Location Data': 0.0% numeric, 0.0% ISO-Date\n",
      "'Category': 0.0% numeric, 0.0% ISO-Date\n",
      "'Seniority': 0.0% numeric, 0.0% ISO-Date\n",
      "'Keywords': 0.0% numeric, 0.0% ISO-Date\n",
      "'Description': 0.0% numeric, 0.0% ISO-Date\n",
      "'Salary Data': 0.0% numeric, 0.0% ISO-Date\n",
      "'Contract Types': 0.0% numeric, 0.0% ISO-Date\n",
      "'Job Status': 0.0% numeric, 0.0% ISO-Date\n",
      "'Job Language': 0.0% numeric, 0.0% ISO-Date\n",
      "'Job Last Processed At': 0.0% numeric, 100.0% ISO-Date\n",
      "  → Converted 'Job Last Processed At' to datetime64[ns]\n",
      "'O*NET Code': 0.0% numeric, 0.0% ISO-Date\n",
      "'O*NET Family': 0.0% numeric, 0.0% ISO-Date\n",
      "'O*NET Occupation Name': 0.0% numeric, 0.0% ISO-Date\n",
      "\n",
      "New datatypes:\n",
      "Website Domain                        object\n",
      "Job Opening Title                     object\n",
      "Job Opening URL                       object\n",
      "First Seen At            datetime64[ns, UTC]\n",
      "Last Seen At             datetime64[ns, UTC]\n",
      "Location                              object\n",
      "Location Data                         object\n",
      "Category                              object\n",
      "Seniority                             object\n",
      "Keywords                              object\n",
      "Description                           object\n",
      "Salary Data                           object\n",
      "Contract Types                        object\n",
      "Job Status                            object\n",
      "Job Language                          object\n",
      "Job Last Processed At    datetime64[ns, UTC]\n",
      "O*NET Code                            object\n",
      "O*NET Family                          object\n",
      "O*NET Occupation Name                 object\n",
      "dtype: object\n"
     ]
    }
   ],
   "execution_count": 95
  },
  {
   "cell_type": "markdown",
   "id": "b4b81f4b-086b-47bb-8001-e3bca4dfcf01",
   "metadata": {},
   "source": [
    "## Visualize Data\n",
    "\n",
    "Use graphes, plots and/or diagrams to visualize the data"
   ]
  },
  {
   "cell_type": "code",
   "id": "3288f622-4d5c-4de6-8302-51a60377e8bb",
   "metadata": {
    "ExecuteTime": {
     "end_time": "2025-05-01T19:10:05.301675Z",
     "start_time": "2025-05-01T19:10:04.663508Z"
    }
   },
   "source": [
    "# TODO\n",
    "\n",
    "# 1) Posting-Dauer in Tagen (bereits vorhanden)\n",
    "data['duration_days'] = (data['Last Seen At'] - data['First Seen At']).dt.days\n",
    "plot.figure()\n",
    "plot.hist(data['duration_days'].dropna(), bins=30)\n",
    "plot.title('Distribution of Posting Duration (days)')\n",
    "plot.xlabel('Days online')\n",
    "plot.ylabel('Count')\n",
    "plot.show()\n",
    "\n",
    "# 2) Top 10 Job Categories\n",
    "top_categories = data['Category'].value_counts().nlargest(10)\n",
    "plot.figure()\n",
    "top_categories.plot.bar(\n",
    "    ax=plot.gca(),\n",
    "    title='Top 10 Job Categories',\n",
    "    rot=45,\n",
    "    figsize=(8, 4)\n",
    ")\n",
    "plot.xlabel('Category')\n",
    "plot.ylabel('Number of Postings')\n",
    "plot.tight_layout()\n",
    "plot.show()\n",
    "\n",
    "# 3) Länge der Job-Beschreibung\n",
    "data['desc_len'] = data['Description'].astype(str).str.len()\n",
    "plot.figure()\n",
    "plot.hist(data['desc_len'].dropna(), bins=30)\n",
    "plot.title('Distribution of Description Length')\n",
    "plot.xlabel('Characters')\n",
    "plot.ylabel('Count')\n",
    "plot.show()\n",
    "\n",
    "# 4) Seniority-Verteilung\n",
    "seniority_counts = data['Seniority'].value_counts()\n",
    "plot.figure()\n",
    "seniority_counts.plot.pie(\n",
    "    autopct='%1.1f%%',\n",
    "    title='Seniority Distribution',\n",
    "    ylabel=''\n",
    ")\n",
    "plot.tight_layout()\n",
    "plot.show()\n",
    "\n"
   ],
   "outputs": [
    {
     "data": {
      "text/plain": [
       "<Figure size 640x480 with 1 Axes>"
      ],
      "image/png": "[encoded data removed]"
     },
     "metadata": {},
     "output_type": "display_data"
    },
    {
     "data": {
      "text/plain": [
       "<Figure size 800x400 with 1 Axes>"
      ],
      "image/png": "[encoded data removed]"
     },
     "metadata": {},
     "output_type": "display_data"
    },
    {
     "data": {
      "text/plain": [
       "<Figure size 640x480 with 1 Axes>"
      ],
      "image/png": "[encoded data removed]"
     },
     "metadata": {},
     "output_type": "display_data"
    },
    {
     "data": {
      "text/plain": [
       "<Figure size 640x480 with 1 Axes>"
      ],
      "image/png": "[encoded data removed]"
     },
     "metadata": {},
     "output_type": "display_data"
    }
   ],
   "execution_count": 96
  },
  {
   "cell_type": "markdown",
   "id": "b1fe4e07-2241-44dc-af0d-c4b08e4ddb2e",
   "metadata": {},
   "source": [
    "## Save Cleaned Data"
   ]
  },
  {
   "cell_type": "code",
   "id": "a5cdee23-dc0a-4bc0-a3c3-32c0a361af35",
   "metadata": {
    "ExecuteTime": {
     "end_time": "2025-05-01T19:10:06.332150Z",
     "start_time": "2025-05-01T19:10:05.357463Z"
    }
   },
   "source": [
    "# TODO\n",
    "\n",
    "output_path = '../Job Posting.csv/Job Posting_cleaned.csv'\n",
    "\n",
    "data.to_csv(output_path, index=False)\n",
    "\n",
    "print(f\"Cleaned data saved to: {output_path}\")\n"
   ],
   "outputs": [
    {
     "name": "stdout",
     "output_type": "stream",
     "text": [
      "Cleaned data saved to: ../Job Posting.csv/Job Posting_cleaned.csv\n"
     ]
    }
   ],
   "execution_count": 97
  }
 ],
 "metadata": {
  "kernelspec": {
   "display_name": "Python 3 (ipykernel)",
   "language": "python",
   "name": "python3"
  },
  "language_info": {
   "codemirror_mode": {
    "name": "ipython",
    "version": 3
   },
   "file_extension": ".py",
   "mimetype": "text/x-python",
   "name": "python",
   "nbconvert_exporter": "python",
   "pygments_lexer": "ipython3",
   "version": "3.11.6"
  }
 },
 "nbformat": 4,
 "nbformat_minor": 5
}
